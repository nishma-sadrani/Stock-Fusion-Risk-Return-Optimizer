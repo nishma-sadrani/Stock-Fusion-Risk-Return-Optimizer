{
 "cells": [
  {
   "cell_type": "code",
   "execution_count": 1,
   "id": "6419a8f4-fcfa-4f7f-96aa-467fde5100c1",
   "metadata": {},
   "outputs": [],
   "source": [
    "import numpy as np\n",
    "import pandas as pd\n",
    "import matplotlib.pyplot as plt\n",
    "import yfinance as yf\n",
    "from datetime import datetime\n",
    "from scipy.optimize import minimize"
   ]
  },
  {
   "cell_type": "code",
   "execution_count": 2,
   "id": "d571ef90-a4a9-476f-a739-296832f64021",
   "metadata": {},
   "outputs": [],
   "source": [
    "def daily_returns(stock):\n",
    "    stock = stock.copy()\n",
    "    \n",
    "    stock['Returns'] = 0.0\n",
    "    \n",
    "    for i in range(1, len(stock)):\n",
    "        previous_close = stock.loc[stock.index[i-1], 'Close']\n",
    "        current_close = stock.loc[stock.index[i], 'Close']\n",
    "        \n",
    "        stock.loc[stock.index[i], 'Returns'] = (current_close - previous_close) / previous_close\n",
    "\n",
    "    stock['Returns'] = stock['Returns'].fillna(0)\n",
    "\n",
    "    return stock\n"
   ]
  },
  {
   "cell_type": "code",
   "execution_count": 3,
   "id": "66dc1358-7c2d-4de8-a6ce-cabc55a97986",
   "metadata": {},
   "outputs": [],
   "source": [
    "# Expected return of the stock\n",
    "def expected_returns(stock):\n",
    "    stock = daily_returns(stock)\n",
    "    stock_mean = sum(stock['Returns'])/len(stock)\n",
    "    return stock_mean\n",
    "        "
   ]
  },
  {
   "cell_type": "code",
   "execution_count": 4,
   "id": "d461c13c-0cc9-4085-882d-276072ebfde4",
   "metadata": {},
   "outputs": [],
   "source": [
    "# Standard deviation of stock\n",
    "def std(stock):\n",
    "    stock = daily_returns(stock)\n",
    "    stand_dev = np.std(stock['Returns'])\n",
    "    return stand_dev"
   ]
  },
  {
   "cell_type": "code",
   "execution_count": 5,
   "id": "4768c8b4-792c-4bd1-8c95-660471751db8",
   "metadata": {},
   "outputs": [],
   "source": [
    "# Variance of stock\n",
    "def var(stock):\n",
    "    variance = std(stock) ** 2\n",
    "    return variance"
   ]
  },
  {
   "cell_type": "code",
   "execution_count": 6,
   "id": "f01c7ea9-c135-4124-b7de-c8693ef8a75d",
   "metadata": {},
   "outputs": [],
   "source": [
    "# Covariance of 2 stocks\n",
    "def cov(stock_a, stock_b):\n",
    "    \n",
    "    if len(stock_a) != len(stock_b):\n",
    "        raise ValueError(\"Both stocks must have the same number of price points.\")\n",
    "    else:\n",
    "        returns_a = daily_returns(stock_a)['Returns']\n",
    "        returns_b = daily_returns(stock_b)['Returns']\n",
    "    \n",
    "        returns_data = np.vstack([returns_a, returns_b])\n",
    "        cov_ab = np.cov(returns_data)[0][1]  \n",
    "    return cov_ab\n"
   ]
  },
  {
   "cell_type": "code",
   "execution_count": 7,
   "id": "4ec38946-24a7-4b7e-934f-4bd848a538e2",
   "metadata": {},
   "outputs": [],
   "source": [
    "def historical_data(stock):\n",
    "    print(\"Expected return is\", expected_returns(stock))\n",
    "    print(\"Standard deviation is\", std(stock))"
   ]
  },
  {
   "cell_type": "code",
   "execution_count": 8,
   "id": "06f63f79-cce6-4214-80d5-cd5f0eb90e1a",
   "metadata": {},
   "outputs": [],
   "source": [
    "# weights\n",
    "weights = []\n",
    "for w1 in range(1,101):\n",
    "    for w2 in range(1,101-w1):\n",
    "        w3 = 100 - w1 - w2\n",
    "        if w3 != 0:\n",
    "            weights.append([w1,w2,w3])\n",
    "                \n",
    "weight = np.array(weights)\n",
    "portfolio = pd.DataFrame(weights, columns = ['Weight_a', 'Weight_b', 'Weight_c'] )"
   ]
  },
  {
   "cell_type": "code",
   "execution_count": 9,
   "id": "ba42e665-237f-42d8-9920-2a5264797df8",
   "metadata": {},
   "outputs": [],
   "source": [
    "def port(stock_a, stock_b, stock_c):\n",
    "    # returns\n",
    "    sr_a = expected_returns(stock_a)\n",
    "    sr_b = expected_returns(stock_b)\n",
    "    sr_c = expected_returns(stock_c)\n",
    "    sr = np.array([sr_a, sr_b, sr_c])\n",
    "\n",
    "    # Variance\n",
    "    vr_a = var(stock_a)\n",
    "    vr_b = var(stock_b)\n",
    "    vr_c = var(stock_c)\n",
    "\n",
    "    # Covariance\n",
    "    cv_ab = cov(stock_a, stock_b)\n",
    "    cv_bc = cov(stock_b, stock_c)\n",
    "    cv_ca = cov(stock_c, stock_a)\n",
    "\n",
    "    # return           \n",
    "    l = len(portfolio)\n",
    "    for i in range (0,l):\n",
    "        wg = np.array([portfolio.loc[portfolio.index[i], 'Weight_a'], portfolio.loc[portfolio.index[i], 'Weight_b'], portfolio.loc[portfolio.index[i], 'Weight_c']] )\n",
    "        portfolio.loc[portfolio.index[i], 'Port_mean'] = np.sum(wg * sr*100)\n",
    "\n",
    "   \n",
    "    # Portfolio Variance\n",
    "    l = len(portfolio)\n",
    "    for i in range (0,l):\n",
    "\n",
    "        # weights\n",
    "        wg_a = portfolio.loc[portfolio.index[i], 'Weight_a']\n",
    "        wg_b = portfolio.loc[portfolio.index[i], 'Weight_b']\n",
    "        wg_c = portfolio.loc[portfolio.index[i], 'Weight_c']\n",
    "\n",
    "        # Calculation partwise\n",
    "        part_1 = (wg_a ** 2) * (vr_a)\n",
    "        part_2 = (wg_b ** 2) * (vr_b)\n",
    "        part_3 = (wg_c ** 2) * (vr_c)\n",
    "        part_4 = 2 * wg_a * wg_b * cv_ab\n",
    "        part_5 = 2 * wg_b * wg_c * cv_bc\n",
    "        part_6 = 2 * wg_c * wg_a * cv_ca\n",
    "\n",
    "        # Final calculation\n",
    "        portfolio.loc[portfolio.index[i], 'Port_var'] = part_1 + part_2 + part_3 + part_4 + part_5 + part_6\n",
    "\n",
    "\n",
    "    # Sharpe's ratio\n",
    "    for i in range (0,l):\n",
    "        portfolio.loc[portfolio.index[i], \"Sharpe_ratio\"] = (portfolio.loc[portfolio.index[i], \"Port_mean\"] - rt)/(portfolio.loc[portfolio.index[i], \"Port_var\"]**0.5)\n",
    "\n",
    "\n",
    "    return portfolio.sort_values(by = 'Sharpe_ratio', ascending= False)"
   ]
  },
  {
   "cell_type": "code",
   "execution_count": 68,
   "id": "f1ebdc38-da3e-48c1-af53-42f19bc99808",
   "metadata": {},
   "outputs": [],
   "source": [
    "def max_min(stock_a, stock_b, stock_c):\n",
    "    p = port(stock_a, stock_b, stock_c)\n",
    "    max_return = p['Port_mean'].max()\n",
    "    min_return = p['Port_mean'].min()\n",
    "    max_var = p['Port_var'].max()\n",
    "    min_var = p['Port_var'].min()\n",
    "\n",
    "\n",
    "    print(\"Out of\", len(p), \"Portfolios:\")\n",
    "    print(\"Maximum return:\", max_return)\n",
    "    print(\"Minimum return:\", min_return)\n",
    "    print(\"Maximum variance:\", max_var)\n",
    "    print(\"Minimum variance:\", min_var)\n",
    "\n",
    "    p.sort_values(by = 'Sharpe_ratio', ascending= False)\n",
    "    stock_a_weight = p.loc[p.index[0],'Weight_a']\n",
    "    stock_b_weight = p.loc[p.index[0],'Weight_b']\n",
    "    stock_c_weight = p.loc[p.index[0],'Weight_c']\n",
    "    port_return = p.loc[p.index[0],'Port_mean']\n",
    "    port_var = p.loc[p.index[0],'Port_var']\n",
    "    sharpe_rt = p.loc[p.index[0],'Sharpe_ratio']\n",
    "\n",
    "    \n",
    "    print(\"Here are the optimal stock weights after optimizing the portfolio for maximum Sharpe ratio.\")\n",
    "    print(list[0], \"Weights =\", stock_a_weight)\n",
    "    print(list[1], \"Weights =\", stock_b_weight)\n",
    "    print(list[2], \"Weights =\", stock_c_weight)\n",
    "    print(\"Maximum return =\", port_return)\n",
    "    print(\"Minimum risk with the return of\", port_return, \"is\", port_var)\n",
    "    print(\"Optimal Sharpe's ratio is\", sharpe_rt)\n",
    "\n",
    "\n",
    "    print(\"Are you satisfied? Y/N: \")\n",
    "    print(\"Y for Yes\")\n",
    "    print(\"N for No\")\n",
    "    a = input().upper()\n",
    "\n",
    "    if a == \"Y\":\n",
    "        print(\"Thank you!!! Hope your portfolio grows so much, it needs its own personal assistant!\")\n",
    "\n",
    "    elif a == \"N\":\n",
    "        while True:\n",
    "            \n",
    "            print(\"What's your preference — are you looking for your expected return or the level of risk (variance)?: \")\n",
    "            print(\"R for Return\")\n",
    "            print(\"V for Risk(Variance)\")\n",
    "            z = input().upper()\n",
    "        \n",
    "            # Return\n",
    "            if z == \"R\":\n",
    "                while True:\n",
    "                    rt = float(input(\"How much return would you like to earn?: \"))\n",
    "            \n",
    "                    if (rt <= max_return) & (rt>= min_return):\n",
    "                        condition = (p['Port_mean'] >= rt) & (p['Port_mean'] < rt + 1)\n",
    "                        if condition.any():\n",
    "                            pf = p.loc[condition].sort_values(by = ['Port_mean','Sharpe_ratio'], ascending=False)[:10]\n",
    "                            pf.columns = [ticker_1, ticker_2, ticker_3, \"Return\", \"Risk\", \"Sharpe's ratio\"]\n",
    "                            print(pf)\n",
    "                            print(\"Are you satisfied? Y/N: \")\n",
    "                            a = input().upper()\n",
    "                            if a == \"Y\": \n",
    "                                print(\"Thank you!!! Hope your portfolio grows so much, it needs its own personal assistant!\")\n",
    "                                break\n",
    "\n",
    "                            elif a ==\"N\":\n",
    "                                continue\n",
    "\n",
    "                            else:\n",
    "                                print(\"Invalid input\")\n",
    "                                \n",
    "    \n",
    "                    else:\n",
    "                        print(\"This is stepping outside your portfolio’s comfort zone—like picking a pizza topping that doesn’t belong!\")\n",
    "\n",
    "\n",
    "                break\n",
    "                \n",
    "            # Risk\n",
    "            elif z == \"V\":\n",
    "                while True:\n",
    "                    rt = float(input(\"How much risk would you like to bear?: \"))\n",
    "        \n",
    "                    if (rt <= max_var) & (rt>= min_var):\n",
    "                        condition = (p['Port_var'] >= rt) & (p['Port_var'] < rt + 1)\n",
    "                        if condition.any():\n",
    "                            df = p.loc[condition].sort_values(by = ['Port_var'])\n",
    "                            pf = df.sort_values(by = ['Sharpe_ratio'], ascending=False)[:10]\n",
    "                            pf.columns = [ticker_1, ticker_2, ticker_3, \"Return\", \"Risk\", \"Sharpe's ratio\"]\n",
    "                            print(pf)\n",
    "                            print(\"Are you satisfied? Y/N: \")\n",
    "                            a = input().upper()\n",
    "                            if a == \"Y\": \n",
    "                                print(\"Thank you!!! Hope your portfolio grows so much, it needs its own personal assistant!\")\n",
    "                                break\n",
    "\n",
    "                            elif a == \"N\":\n",
    "                                continue\n",
    "\n",
    "                            else:\n",
    "                                print(\"Invalid input\")\n",
    "                                \n",
    "    \n",
    "                    else:\n",
    "                        print(\"This is stepping outside your portfolio’s comfort zone—like picking a pizza topping that doesn’t belong!\")\n",
    "\n",
    "\n",
    "                break\n",
    "    \n",
    "                \n",
    "    \n",
    "    else:\n",
    "        print(\"Invalid input\")"
   ]
  },
  {
   "cell_type": "code",
   "execution_count": 70,
   "id": "fd54e421-9514-4d13-9554-fea59a43b289",
   "metadata": {},
   "outputs": [
    {
     "name": "stdin",
     "output_type": "stream",
     "text": [
      "Enter 1st Ticker's Id: mahmf\n",
      "Enter 2nd Ticker's Id: aapl\n",
      "Enter 3rd Ticker's Id: msft\n"
     ]
    },
    {
     "name": "stdout",
     "output_type": "stream",
     "text": [
      "Provide the date range in the format (yyyy-mm-dd)\n"
     ]
    },
    {
     "name": "stdin",
     "output_type": "stream",
     "text": [
      "Enter Start date: 2021-01-23\n",
      "Enter End date: 2025-01-23\n",
      "Enter risk free rate: 7.365\n"
     ]
    },
    {
     "name": "stderr",
     "output_type": "stream",
     "text": [
      "[*********************100%***********************]  1 of 1 completed\n",
      "[*********************100%***********************]  1 of 1 completed\n",
      "[*********************100%***********************]  1 of 1 completed\n"
     ]
    },
    {
     "name": "stdout",
     "output_type": "stream",
     "text": [
      "Out of 4851 Portfolios:\n",
      "Maximum return: 31.90258678844724\n",
      "Minimum return: 6.366774570209234\n",
      "Maximum variance: 55.774513709024035\n",
      "Minimum variance: 2.2142421469700118\n",
      "Here are the optimal stock weights after optimizing the portfolio for maximum Sharpe ratio.\n",
      "MAHMF Weights = 58\n",
      "AAPL Weights = 1\n",
      "MSFT Weights = 41\n",
      "Maximum return = 22.261834596999567\n",
      "Minimum risk with the return of 22.261834596999567 is 20.10020919300318\n",
      "Optimal Sharpe's ratio is 3.322719705287248\n",
      "Are you satisfied? Y/N: \n",
      "Y for Yes\n",
      "N for No\n"
     ]
    },
    {
     "name": "stdin",
     "output_type": "stream",
     "text": [
      " n\n"
     ]
    },
    {
     "name": "stdout",
     "output_type": "stream",
     "text": [
      "What's your preference — are you looking for your expected return or the level of risk (variance)?: \n",
      "R for Return\n",
      "V for Risk(Variance)\n"
     ]
    },
    {
     "name": "stdin",
     "output_type": "stream",
     "text": [
      " r\n",
      "How much return would you like to earn?:  20\n"
     ]
    },
    {
     "name": "stdout",
     "output_type": "stream",
     "text": [
      "      MAHMF  AAPL  MSFT     Return       Risk  Sharpe's ratio\n",
      "3773     53     4    43  20.990030  16.972894        3.307193\n",
      "3830     54    15    31  20.986441  17.503996        3.255776\n",
      "3886     55    26    19  20.982853  18.093098        3.201490\n",
      "3941     56    37     7  20.979265  18.740200        3.144902\n",
      "3774     53     5    42  20.967793  16.965029        3.302560\n",
      "3831     54    16    30  20.964205  17.500169        3.250816\n",
      "3887     55    27    18  20.960616  18.093309        3.196244\n",
      "3942     56    38     6  20.957028  18.744448        3.139409\n",
      "3775     53     6    41  20.945556  16.957519        3.297892\n",
      "3832     54    17    29  20.941968  17.496697        3.245822\n",
      "Are you satisfied? Y/N: \n"
     ]
    },
    {
     "name": "stdin",
     "output_type": "stream",
     "text": [
      " n\n",
      "How much return would you like to earn?:  30\n"
     ]
    },
    {
     "name": "stdout",
     "output_type": "stream",
     "text": [
      "      MAHMF  AAPL  MSFT     Return       Risk  Sharpe's ratio\n",
      "4836     94     1     5  30.938512  51.338159        3.290062\n",
      "4837     94     2     4  30.916275  51.334892        3.287063\n",
      "4838     94     3     3  30.894038  51.331978        3.284053\n",
      "4839     94     4     2  30.871801  51.329420        3.281031\n",
      "4840     94     5     1  30.849564  51.327215        3.277998\n",
      "4830     93     1     6  30.697493  50.259242        3.291192\n",
      "4831     93     2     5  30.675256  50.255836        3.288166\n",
      "4832     93     3     4  30.653019  50.252785        3.285129\n",
      "4833     93     4     3  30.630782  50.250088        3.282081\n",
      "4834     93     5     2  30.608545  50.247745        3.279020\n",
      "Are you satisfied? Y/N: \n"
     ]
    },
    {
     "name": "stdin",
     "output_type": "stream",
     "text": [
      " y\n"
     ]
    },
    {
     "name": "stdout",
     "output_type": "stream",
     "text": [
      "Thank you!!! Hope your portfolio grows so much, it needs its own personal assistant!\n"
     ]
    }
   ],
   "source": [
    "ticker_1 = input(\"Enter 1st Ticker's Id:\").strip().upper()\n",
    "ticker_2 = input(\"Enter 2nd Ticker's Id:\").strip().upper()\n",
    "ticker_3 = input(\"Enter 3rd Ticker's Id:\").strip().upper()\n",
    "\n",
    "list = []\n",
    "list.append(ticker_1)\n",
    "list.append(ticker_2)\n",
    "list.append(ticker_3)\n",
    "\n",
    "\n",
    "print(\"Provide the date range in the format (yyyy-mm-dd)\")\n",
    "start_date = input(\"Enter Start date:\").strip()\n",
    "end_date = input(\"Enter End date:\").strip()\n",
    "rt = float(input(\"Enter risk free rate:\"))\n",
    "        \n",
    "try:\n",
    "    start_date = datetime.strptime(start_date, \"%Y-%m-%d\").date()\n",
    "    end_date = datetime.strptime(end_date, \"%Y-%m-%d\").date()\n",
    "    \n",
    "except ValueError:\n",
    "    print(\"Error: Please enter valid dates in the format yyyy-mm-dd.\")\n",
    "        \n",
    "    \n",
    "stock_a = yf.download(ticker_1, start=start_date, end=end_date)\n",
    "stock_b = yf.download(ticker_2, start=start_date, end=end_date)\n",
    "stock_c = yf.download(ticker_3, start=start_date, end=end_date)\n",
    "\n",
    "stock_a.columns = [col[0] for col in stock_a.columns]\n",
    "stock_b.columns = [col[0] for col in stock_b.columns]\n",
    "stock_c.columns = [col[0] for col in stock_c.columns]\n",
    "    \n",
    "    \n",
    "max_min(stock_a, stock_b, stock_c)\n"
   ]
  },
  {
   "cell_type": "code",
   "execution_count": 12,
   "id": "5e1069f4-f711-4bc9-adca-3abc7089682b",
   "metadata": {},
   "outputs": [],
   "source": [
    "# MAHMF = 1004\n",
    "# AAPl = 1004\n",
    "# MSFT = 1004\n",
    "# BHARTIARTL.NS = 987\n",
    "# HCLTECH.NS = 987"
   ]
  },
  {
   "cell_type": "code",
   "execution_count": null,
   "id": "9ab1fa1a-543b-4a86-8cc4-48ac3b78434c",
   "metadata": {},
   "outputs": [],
   "source": []
  }
 ],
 "metadata": {
  "kernelspec": {
   "display_name": "Python 3 (ipykernel)",
   "language": "python",
   "name": "python3"
  },
  "language_info": {
   "codemirror_mode": {
    "name": "ipython",
    "version": 3
   },
   "file_extension": ".py",
   "mimetype": "text/x-python",
   "name": "python",
   "nbconvert_exporter": "python",
   "pygments_lexer": "ipython3",
   "version": "3.12.4"
  }
 },
 "nbformat": 4,
 "nbformat_minor": 5
}
